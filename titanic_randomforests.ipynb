{
 "cells": [
  {
   "cell_type": "code",
   "execution_count": 1,
   "metadata": {},
   "outputs": [],
   "source": [
    "import numpy as np\n",
    "import pandas as pd\n",
    "from matplotlib import pyplot as plt \n",
    "import seaborn as sns\n",
    "%matplotlib inline"
   ]
  },
  {
   "cell_type": "code",
   "execution_count": 2,
   "metadata": {},
   "outputs": [
    {
     "data": {
      "text/html": [
       "<div>\n",
       "<style scoped>\n",
       "    .dataframe tbody tr th:only-of-type {\n",
       "        vertical-align: middle;\n",
       "    }\n",
       "\n",
       "    .dataframe tbody tr th {\n",
       "        vertical-align: top;\n",
       "    }\n",
       "\n",
       "    .dataframe thead th {\n",
       "        text-align: right;\n",
       "    }\n",
       "</style>\n",
       "<table border=\"1\" class=\"dataframe\">\n",
       "  <thead>\n",
       "    <tr style=\"text-align: right;\">\n",
       "      <th></th>\n",
       "      <th>PassengerId</th>\n",
       "      <th>Survived</th>\n",
       "      <th>Pclass</th>\n",
       "      <th>Name</th>\n",
       "      <th>Sex</th>\n",
       "      <th>Age</th>\n",
       "      <th>SibSp</th>\n",
       "      <th>Parch</th>\n",
       "      <th>Ticket</th>\n",
       "      <th>Fare</th>\n",
       "      <th>Cabin</th>\n",
       "      <th>Embarked</th>\n",
       "    </tr>\n",
       "  </thead>\n",
       "  <tbody>\n",
       "    <tr>\n",
       "      <th>881</th>\n",
       "      <td>882</td>\n",
       "      <td>0</td>\n",
       "      <td>3</td>\n",
       "      <td>Markun, Mr. Johann</td>\n",
       "      <td>male</td>\n",
       "      <td>33.0</td>\n",
       "      <td>0</td>\n",
       "      <td>0</td>\n",
       "      <td>349257</td>\n",
       "      <td>7.8958</td>\n",
       "      <td>NaN</td>\n",
       "      <td>S</td>\n",
       "    </tr>\n",
       "    <tr>\n",
       "      <th>882</th>\n",
       "      <td>883</td>\n",
       "      <td>0</td>\n",
       "      <td>3</td>\n",
       "      <td>Dahlberg, Miss. Gerda Ulrika</td>\n",
       "      <td>female</td>\n",
       "      <td>22.0</td>\n",
       "      <td>0</td>\n",
       "      <td>0</td>\n",
       "      <td>7552</td>\n",
       "      <td>10.5167</td>\n",
       "      <td>NaN</td>\n",
       "      <td>S</td>\n",
       "    </tr>\n",
       "    <tr>\n",
       "      <th>883</th>\n",
       "      <td>884</td>\n",
       "      <td>0</td>\n",
       "      <td>2</td>\n",
       "      <td>Banfield, Mr. Frederick James</td>\n",
       "      <td>male</td>\n",
       "      <td>28.0</td>\n",
       "      <td>0</td>\n",
       "      <td>0</td>\n",
       "      <td>C.A./SOTON 34068</td>\n",
       "      <td>10.5000</td>\n",
       "      <td>NaN</td>\n",
       "      <td>S</td>\n",
       "    </tr>\n",
       "    <tr>\n",
       "      <th>884</th>\n",
       "      <td>885</td>\n",
       "      <td>0</td>\n",
       "      <td>3</td>\n",
       "      <td>Sutehall, Mr. Henry Jr</td>\n",
       "      <td>male</td>\n",
       "      <td>25.0</td>\n",
       "      <td>0</td>\n",
       "      <td>0</td>\n",
       "      <td>SOTON/OQ 392076</td>\n",
       "      <td>7.0500</td>\n",
       "      <td>NaN</td>\n",
       "      <td>S</td>\n",
       "    </tr>\n",
       "    <tr>\n",
       "      <th>885</th>\n",
       "      <td>886</td>\n",
       "      <td>0</td>\n",
       "      <td>3</td>\n",
       "      <td>Rice, Mrs. William (Margaret Norton)</td>\n",
       "      <td>female</td>\n",
       "      <td>39.0</td>\n",
       "      <td>0</td>\n",
       "      <td>5</td>\n",
       "      <td>382652</td>\n",
       "      <td>29.1250</td>\n",
       "      <td>NaN</td>\n",
       "      <td>Q</td>\n",
       "    </tr>\n",
       "    <tr>\n",
       "      <th>886</th>\n",
       "      <td>887</td>\n",
       "      <td>0</td>\n",
       "      <td>2</td>\n",
       "      <td>Montvila, Rev. Juozas</td>\n",
       "      <td>male</td>\n",
       "      <td>27.0</td>\n",
       "      <td>0</td>\n",
       "      <td>0</td>\n",
       "      <td>211536</td>\n",
       "      <td>13.0000</td>\n",
       "      <td>NaN</td>\n",
       "      <td>S</td>\n",
       "    </tr>\n",
       "    <tr>\n",
       "      <th>887</th>\n",
       "      <td>888</td>\n",
       "      <td>1</td>\n",
       "      <td>1</td>\n",
       "      <td>Graham, Miss. Margaret Edith</td>\n",
       "      <td>female</td>\n",
       "      <td>19.0</td>\n",
       "      <td>0</td>\n",
       "      <td>0</td>\n",
       "      <td>112053</td>\n",
       "      <td>30.0000</td>\n",
       "      <td>B42</td>\n",
       "      <td>S</td>\n",
       "    </tr>\n",
       "    <tr>\n",
       "      <th>888</th>\n",
       "      <td>889</td>\n",
       "      <td>0</td>\n",
       "      <td>3</td>\n",
       "      <td>Johnston, Miss. Catherine Helen \"Carrie\"</td>\n",
       "      <td>female</td>\n",
       "      <td>NaN</td>\n",
       "      <td>1</td>\n",
       "      <td>2</td>\n",
       "      <td>W./C. 6607</td>\n",
       "      <td>23.4500</td>\n",
       "      <td>NaN</td>\n",
       "      <td>S</td>\n",
       "    </tr>\n",
       "    <tr>\n",
       "      <th>889</th>\n",
       "      <td>890</td>\n",
       "      <td>1</td>\n",
       "      <td>1</td>\n",
       "      <td>Behr, Mr. Karl Howell</td>\n",
       "      <td>male</td>\n",
       "      <td>26.0</td>\n",
       "      <td>0</td>\n",
       "      <td>0</td>\n",
       "      <td>111369</td>\n",
       "      <td>30.0000</td>\n",
       "      <td>C148</td>\n",
       "      <td>C</td>\n",
       "    </tr>\n",
       "    <tr>\n",
       "      <th>890</th>\n",
       "      <td>891</td>\n",
       "      <td>0</td>\n",
       "      <td>3</td>\n",
       "      <td>Dooley, Mr. Patrick</td>\n",
       "      <td>male</td>\n",
       "      <td>32.0</td>\n",
       "      <td>0</td>\n",
       "      <td>0</td>\n",
       "      <td>370376</td>\n",
       "      <td>7.7500</td>\n",
       "      <td>NaN</td>\n",
       "      <td>Q</td>\n",
       "    </tr>\n",
       "  </tbody>\n",
       "</table>\n",
       "</div>"
      ],
      "text/plain": [
       "     PassengerId  Survived  Pclass                                      Name  \\\n",
       "881          882         0       3                        Markun, Mr. Johann   \n",
       "882          883         0       3              Dahlberg, Miss. Gerda Ulrika   \n",
       "883          884         0       2             Banfield, Mr. Frederick James   \n",
       "884          885         0       3                    Sutehall, Mr. Henry Jr   \n",
       "885          886         0       3      Rice, Mrs. William (Margaret Norton)   \n",
       "886          887         0       2                     Montvila, Rev. Juozas   \n",
       "887          888         1       1              Graham, Miss. Margaret Edith   \n",
       "888          889         0       3  Johnston, Miss. Catherine Helen \"Carrie\"   \n",
       "889          890         1       1                     Behr, Mr. Karl Howell   \n",
       "890          891         0       3                       Dooley, Mr. Patrick   \n",
       "\n",
       "        Sex   Age  SibSp  Parch            Ticket     Fare Cabin Embarked  \n",
       "881    male  33.0      0      0            349257   7.8958   NaN        S  \n",
       "882  female  22.0      0      0              7552  10.5167   NaN        S  \n",
       "883    male  28.0      0      0  C.A./SOTON 34068  10.5000   NaN        S  \n",
       "884    male  25.0      0      0   SOTON/OQ 392076   7.0500   NaN        S  \n",
       "885  female  39.0      0      5            382652  29.1250   NaN        Q  \n",
       "886    male  27.0      0      0            211536  13.0000   NaN        S  \n",
       "887  female  19.0      0      0            112053  30.0000   B42        S  \n",
       "888  female   NaN      1      2        W./C. 6607  23.4500   NaN        S  \n",
       "889    male  26.0      0      0            111369  30.0000  C148        C  \n",
       "890    male  32.0      0      0            370376   7.7500   NaN        Q  "
      ]
     },
     "execution_count": 2,
     "metadata": {},
     "output_type": "execute_result"
    }
   ],
   "source": [
    "df_train = pd.read_csv(\"train.csv\")\n",
    "df_train.head()\n",
    "df_test = pd.read_csv(\"test.csv\")\n",
    "df_train.tail(10)\n"
   ]
  },
  {
   "cell_type": "code",
   "execution_count": 3,
   "metadata": {},
   "outputs": [
    {
     "data": {
      "image/png": "[encoded data removed]",
      "text/plain": [
       "<Figure size 432x288 with 2 Axes>"
      ]
     },
     "metadata": {
      "needs_background": "light"
     },
     "output_type": "display_data"
    }
   ],
   "source": [
    "# Indicates the correlations between numerical columns\n",
    "train_corr = df_train.corr()\n",
    "sns.heatmap(train_corr)\n",
    "plt.show()\n",
    "# we may create a new feature from Sibsp and parch"
   ]
  },
  {
   "cell_type": "code",
   "execution_count": 4,
   "metadata": {},
   "outputs": [
    {
     "data": {
      "image/png": "[encoded data removed]",
      "text/plain": [
       "<Figure size 864x360 with 1 Axes>"
      ]
     },
     "metadata": {
      "needs_background": "light"
     },
     "output_type": "display_data"
    },
    {
     "data": {
      "image/png": "[encoded data removed]",
      "text/plain": [
       "<Figure size 864x360 with 1 Axes>"
      ]
     },
     "metadata": {
      "needs_background": "light"
     },
     "output_type": "display_data"
    }
   ],
   "source": [
    "# Missing values in train and test datasets\n",
    "plt.figure(figsize = (12, 5))\n",
    "sns.barplot(df_train.columns, df_train.isna().sum().values, color = \"red\")\n",
    "plt.show()\n",
    "\n",
    "plt.figure(figsize = (12, 5))\n",
    "sns.barplot(df_test.columns, df_test.isna().sum().values, color = \"red\")\n",
    "plt.show()"
   ]
  },
  {
   "cell_type": "code",
   "execution_count": 5,
   "metadata": {},
   "outputs": [
    {
     "data": {
      "image/png": "[encoded data removed]",
      "text/plain": [
       "<Figure size 432x288 with 1 Axes>"
      ]
     },
     "metadata": {
      "needs_background": "light"
     },
     "output_type": "display_data"
    },
    {
     "data": {
      "image/png": "[encoded data removed]",
      "text/plain": [
       "<Figure size 432x288 with 1 Axes>"
      ]
     },
     "metadata": {
      "needs_background": "light"
     },
     "output_type": "display_data"
    },
    {
     "data": {
      "image/png": "[encoded data removed]",
      "text/plain": [
       "<Figure size 432x288 with 1 Axes>"
      ]
     },
     "metadata": {
      "needs_background": "light"
     },
     "output_type": "display_data"
    },
    {
     "data": {
      "image/png": "[encoded data removed]",
      "text/plain": [
       "<Figure size 432x288 with 1 Axes>"
      ]
     },
     "metadata": {
      "needs_background": "light"
     },
     "output_type": "display_data"
    },
    {
     "data": {
      "image/png": "[encoded data removed]",
      "text/plain": [
       "<Figure size 432x288 with 1 Axes>"
      ]
     },
     "metadata": {
      "needs_background": "light"
     },
     "output_type": "display_data"
    },
    {
     "data": {
      "image/png": "[encoded data removed]",
      "text/plain": [
       "<Figure size 432x288 with 1 Axes>"
      ]
     },
     "metadata": {
      "needs_background": "light"
     },
     "output_type": "display_data"
    },
    {
     "data": {
      "image/png": "[encoded data removed]",
      "text/plain": [
       "<Figure size 432x288 with 1 Axes>"
      ]
     },
     "metadata": {
      "needs_background": "light"
     },
     "output_type": "display_data"
    },
    {
     "data": {
      "image/png": "[encoded data removed]",
      "text/plain": [
       "<Figure size 432x288 with 1 Axes>"
      ]
     },
     "metadata": {
      "needs_background": "light"
     },
     "output_type": "display_data"
    }
   ],
   "source": [
    "# Exploratory Data Analysis\n",
    "sns.countplot(df_train[\"Survived\"])\n",
    "plt.show()\n",
    "\n",
    "sns.distplot(df_train[\"Age\"])\n",
    "plt.show()\n",
    "\n",
    "sns.countplot(x = \"Survived\", hue = \"Sex\", data = df_train)\n",
    "plt.show()\n",
    "\n",
    "\n",
    "sns.barplot( x = \"Survived\", y = \"Age\", hue = \"Sex\", data = df_train)\n",
    "plt.show()\n",
    "\n",
    "sns.countplot( x = \"Embarked\", hue = \"Survived\", data = df_train)\n",
    "plt.show()\n",
    "\n",
    "sns.countplot( x = \"Survived\", hue = \"Pclass\", data = df_train)\n",
    "plt.show()\n",
    "\n",
    "sns.barplot(x = \"Survived\", y=  \"Fare\", data = df_train)\n",
    "plt.show()\n",
    "\n",
    "sns.countplot(x = \"Parch\", hue = \"Survived\", data = df_train)\n",
    "plt.show()"
   ]
  },
  {
   "cell_type": "code",
   "execution_count": 6,
   "metadata": {},
   "outputs": [
    {
     "data": {
      "text/html": [
       "<div>\n",
       "<style scoped>\n",
       "    .dataframe tbody tr th:only-of-type {\n",
       "        vertical-align: middle;\n",
       "    }\n",
       "\n",
       "    .dataframe tbody tr th {\n",
       "        vertical-align: top;\n",
       "    }\n",
       "\n",
       "    .dataframe thead th {\n",
       "        text-align: right;\n",
       "    }\n",
       "</style>\n",
       "<table border=\"1\" class=\"dataframe\">\n",
       "  <thead>\n",
       "    <tr style=\"text-align: right;\">\n",
       "      <th></th>\n",
       "      <th>Pclass</th>\n",
       "      <th>Sex</th>\n",
       "      <th>Age</th>\n",
       "      <th>Fare</th>\n",
       "      <th>Embarked</th>\n",
       "      <th>Alone</th>\n",
       "      <th>Title</th>\n",
       "    </tr>\n",
       "  </thead>\n",
       "  <tbody>\n",
       "    <tr>\n",
       "      <th>0</th>\n",
       "      <td>3</td>\n",
       "      <td>0</td>\n",
       "      <td>2.0</td>\n",
       "      <td>7.2500</td>\n",
       "      <td>2</td>\n",
       "      <td>0</td>\n",
       "      <td>5</td>\n",
       "    </tr>\n",
       "    <tr>\n",
       "      <th>1</th>\n",
       "      <td>1</td>\n",
       "      <td>1</td>\n",
       "      <td>2.0</td>\n",
       "      <td>71.2833</td>\n",
       "      <td>1</td>\n",
       "      <td>0</td>\n",
       "      <td>3</td>\n",
       "    </tr>\n",
       "    <tr>\n",
       "      <th>2</th>\n",
       "      <td>3</td>\n",
       "      <td>1</td>\n",
       "      <td>2.0</td>\n",
       "      <td>7.9250</td>\n",
       "      <td>2</td>\n",
       "      <td>1</td>\n",
       "      <td>4</td>\n",
       "    </tr>\n",
       "    <tr>\n",
       "      <th>3</th>\n",
       "      <td>1</td>\n",
       "      <td>1</td>\n",
       "      <td>2.0</td>\n",
       "      <td>53.1000</td>\n",
       "      <td>2</td>\n",
       "      <td>0</td>\n",
       "      <td>3</td>\n",
       "    </tr>\n",
       "    <tr>\n",
       "      <th>4</th>\n",
       "      <td>3</td>\n",
       "      <td>0</td>\n",
       "      <td>2.0</td>\n",
       "      <td>8.0500</td>\n",
       "      <td>2</td>\n",
       "      <td>1</td>\n",
       "      <td>5</td>\n",
       "    </tr>\n",
       "    <tr>\n",
       "      <th>...</th>\n",
       "      <td>...</td>\n",
       "      <td>...</td>\n",
       "      <td>...</td>\n",
       "      <td>...</td>\n",
       "      <td>...</td>\n",
       "      <td>...</td>\n",
       "      <td>...</td>\n",
       "    </tr>\n",
       "    <tr>\n",
       "      <th>886</th>\n",
       "      <td>2</td>\n",
       "      <td>0</td>\n",
       "      <td>2.0</td>\n",
       "      <td>13.0000</td>\n",
       "      <td>2</td>\n",
       "      <td>1</td>\n",
       "      <td>1</td>\n",
       "    </tr>\n",
       "    <tr>\n",
       "      <th>887</th>\n",
       "      <td>1</td>\n",
       "      <td>1</td>\n",
       "      <td>1.0</td>\n",
       "      <td>30.0000</td>\n",
       "      <td>2</td>\n",
       "      <td>1</td>\n",
       "      <td>4</td>\n",
       "    </tr>\n",
       "    <tr>\n",
       "      <th>888</th>\n",
       "      <td>3</td>\n",
       "      <td>1</td>\n",
       "      <td>2.0</td>\n",
       "      <td>23.4500</td>\n",
       "      <td>2</td>\n",
       "      <td>0</td>\n",
       "      <td>4</td>\n",
       "    </tr>\n",
       "    <tr>\n",
       "      <th>889</th>\n",
       "      <td>1</td>\n",
       "      <td>0</td>\n",
       "      <td>2.0</td>\n",
       "      <td>30.0000</td>\n",
       "      <td>1</td>\n",
       "      <td>1</td>\n",
       "      <td>5</td>\n",
       "    </tr>\n",
       "    <tr>\n",
       "      <th>890</th>\n",
       "      <td>3</td>\n",
       "      <td>0</td>\n",
       "      <td>2.0</td>\n",
       "      <td>7.7500</td>\n",
       "      <td>3</td>\n",
       "      <td>1</td>\n",
       "      <td>5</td>\n",
       "    </tr>\n",
       "  </tbody>\n",
       "</table>\n",
       "<p>891 rows × 7 columns</p>\n",
       "</div>"
      ],
      "text/plain": [
       "     Pclass  Sex  Age     Fare  Embarked  Alone  Title\n",
       "0         3    0  2.0   7.2500         2      0      5\n",
       "1         1    1  2.0  71.2833         1      0      3\n",
       "2         3    1  2.0   7.9250         2      1      4\n",
       "3         1    1  2.0  53.1000         2      0      3\n",
       "4         3    0  2.0   8.0500         2      1      5\n",
       "..      ...  ...  ...      ...       ...    ...    ...\n",
       "886       2    0  2.0  13.0000         2      1      1\n",
       "887       1    1  1.0  30.0000         2      1      4\n",
       "888       3    1  2.0  23.4500         2      0      4\n",
       "889       1    0  2.0  30.0000         1      1      5\n",
       "890       3    0  2.0   7.7500         3      1      5\n",
       "\n",
       "[891 rows x 7 columns]"
      ]
     },
     "execution_count": 6,
     "metadata": {},
     "output_type": "execute_result"
    }
   ],
   "source": [
    "#Preprocessing data\n",
    "\n",
    "train_features = df_train.copy()\n",
    "test_features = df_test.copy()\n",
    "\n",
    "#dealing with missing data  (drop cabin column)\n",
    "train_features.drop(\"Cabin\", axis = 1, inplace = True)\n",
    "test_features.drop(\"Cabin\", axis = 1, inplace = True)\n",
    "\n",
    "# impute mean value for the columns Age and Fare\n",
    "train_features.Age.fillna(train_features.Age.mean(), inplace = True)\n",
    "train_features.Fare.fillna(train_features.Fare.mean(), inplace = True)\n",
    "test_features.Age.fillna(test_features.Age.mean(), inplace = True)\n",
    "test_features.Fare.fillna(test_features.Fare.mean(), inplace = True)\n",
    "\n",
    "#impute with the most common class for \"Embarked\" column\n",
    "train_features.Embarked.fillna(\"S\", inplace = True)\n",
    "test_features.Embarked.fillna(\"S\", inplace = True)\n",
    "\n",
    "#label encoding\n",
    "train_features[\"Embarked\"] = train_features[\"Embarked\"].map({\"C\":1,  \"S\": 2,  \"Q\":3})\n",
    "train_features[\"Sex\"] = train_features[\"Sex\"].map({\"male\" :0,  \"female\": 1})\n",
    "test_features[\"Embarked\"] = test_features[\"Embarked\"].map({\"C\":1,  \"S\": 2,  \"Q\":3})\n",
    "test_features[\"Sex\"] = test_features[\"Sex\"].map({\"male\" :0,  \"female\": 1})\n",
    "\n",
    "\n",
    "#Feature Extraction (SibSp& Parch columns are highly correlated, we make just one feature by merging them)\n",
    "train_features[\"Alone\"] = train_features[\"SibSp\"] + train_features[\"Parch\"]\n",
    "train_features[\"Alone\"] = train_features[\"Alone\"].apply(lambda x : 1 if x==0 else 0) \n",
    "#if any row in the alone column is zero, then alone status is 1; else  it is zero.\n",
    "train_features.drop([\"SibSp\", \"Parch\"], axis = 1, inplace = True)\n",
    "test_features[\"Alone\"] = test_features[\"SibSp\"] + test_features[\"Parch\"]\n",
    "test_features[\"Alone\"] = test_features[\"Alone\"].apply(lambda x : 1 if x==0 else 0) \n",
    "#if any row in the alone column is zero, then alone status is 1; else  it is zero.\n",
    "test_features.drop([\"SibSp\", \"Parch\"], axis = 1, inplace = True)\n",
    "#Feature Engineering: we create a new feature from names column\n",
    "train_features[\"Title\"] = train_features[\"Name\"].str.extract(\"([A-Za-z]+)\\.\", expand = False)\n",
    "train_features.drop(\"Name\", axis = 1,  inplace = True)\n",
    "test_features[\"Title\"] = test_features[\"Name\"].str.extract(\"([A-Za-z]+)\\.\", expand = False)\n",
    "test_features.drop(\"Name\", axis = 1,  inplace = True)\n",
    "\n",
    "train_features.drop(\"PassengerId\", axis = 1,  inplace = True)\n",
    "train_features.drop(\"Ticket\", axis = 1,  inplace = True)\n",
    "test_features.drop(\"PassengerId\", axis = 1,  inplace = True)\n",
    "test_features.drop(\"Ticket\", axis = 1,  inplace = True)\n",
    "\n",
    "\n",
    "least_occuring = [\"Dr\", \"Rev\", \"Col\", \"Major\", \"Mlle\", \"Lady\", \"Sir\", \"Don\", \"Jonkheer\", \"Mme\", \"Capt\", \"Ms\", \"Countess\"]\n",
    "train_features[\"Title\"] = train_features[\"Title\"].replace(least_occuring, \"Rare\")\n",
    "test_features[\"Title\"] = test_features[\"Title\"].replace(least_occuring, \"Rare\")\n",
    "\n",
    "train_features[\"Title\"] = train_features[\"Title\"].map({ \"Mr\" : 5,  \"Miss\": 4, \"Mrs\" :3 , \"Master\" :2 ,  \"Rare\" : 1})\n",
    "test_features[\"Title\"] = test_features[\"Title\"].map({ \"Mr\" : 5,  \"Miss\": 4, \"Mrs\" :3 , \"Master\" :2 ,  \"Rare\" : 1})\n",
    "\n",
    "\n",
    "train_label = train_features.pop(\"Survived\")\n",
    "test_features.Title.fillna(\"5\", inplace = True)\n",
    "\n",
    "#binning age column\n",
    "\n",
    "train_features.loc[train_features[\"Age\"] <= 20, \"Age\" ] = 1\n",
    "train_features.loc[(train_features[\"Age\"] > 20 ) & (train_features[\"Age\"] <=40 ),  \"Age\" ] = 2\n",
    "train_features.loc[(train_features[\"Age\"] > 40 ) & (train_features[\"Age\"] <=60 ),  \"Age\" ] = 3\n",
    "train_features.loc[train_features[\"Age\"] >=  60, \"Age\" ] = 4\n",
    "                                                    \n",
    "\n",
    "test_features.loc[test_features[\"Age\"] <= 20, \"Age\" ] = 1\n",
    "test_features.loc[(test_features[\"Age\"] > 20) & (test_features[\"Age\"] <=40 ),  \"Age\" ] = 2\n",
    "test_features.loc[(test_features[\"Age\"] > 40 ) & (test_features[\"Age\"] <=60 ),  \"Age\" ] = 3\n",
    "test_features.loc[test_features[\"Age\"] >=  60, \"Age\" ] = 4\n",
    "\n",
    "                                                        \n",
    "\n",
    "\n",
    "X = train_features\n",
    "y = train_label\n",
    "\n",
    "X\n",
    "                            "
   ]
  },
  {
   "cell_type": "code",
   "execution_count": 7,
   "metadata": {},
   "outputs": [
    {
     "name": "stdout",
     "output_type": "stream",
     "text": [
      "Confusion matrix for kth fold : [[46  9]\n",
      " [11 24]]\n",
      "Confusion matrix for kth fold : [[48  7]\n",
      " [ 8 26]]\n",
      "Confusion matrix for kth fold : [[45 10]\n",
      " [11 23]]\n",
      "Confusion matrix for kth fold : [[48  7]\n",
      " [ 4 30]]\n",
      "Confusion matrix for kth fold : [[44 11]\n",
      " [ 9 25]]\n",
      "Confusion matrix for kth fold : [[50  5]\n",
      " [ 9 25]]\n",
      "Confusion matrix for kth fold : [[41 14]\n",
      " [ 9 25]]\n",
      "Confusion matrix for kth fold : [[46  9]\n",
      " [ 7 27]]\n",
      "Confusion matrix for kth fold : [[50  5]\n",
      " [ 7 27]]\n",
      "Confusion matrix for kth fold : [[47  7]\n",
      " [ 9 26]]\n",
      "F1_score: (test) 0.8007468986001601\n",
      "F1_score: (train) 0.8138997805229137\n",
      "Acc_score: (test) 0.8114856429463171\n",
      "Acc_score: (train) 0.8143082648345805\n"
     ]
    }
   ],
   "source": [
    "from sklearn.ensemble import RandomForestClassifier\n",
    "from sklearn.model_selection import StratifiedKFold\n",
    "from sklearn.model_selection import cross_val_predict \n",
    "from sklearn import metrics\n",
    "from imblearn.over_sampling import RandomOverSampler\n",
    "from sklearn.metrics import confusion_matrix\n",
    "\n",
    "\n",
    "\n",
    "\n",
    "kf = StratifiedKFold(n_splits=10,  random_state=1, shuffle=True)\n",
    "\n",
    "acc_scores_f1 = []\n",
    "acc_scores_f1_train = []\n",
    "acc_scores = []\n",
    "acc_scores_train = []\n",
    "for train_index, test_index in kf.split(X, y): \n",
    "    \n",
    "  #  print(\"Training data index: \", train_index) \n",
    "  #  print(\"Test data index: \", test_index) \n",
    " \n",
    "    X_train, X_test, y_train, y_test = X.iloc[train_index], X.iloc[test_index ], y.iloc[train_index], y.iloc[test_index]\n",
    "    \n",
    "    over_sample = RandomOverSampler(sampling_strategy = \"minority\")\n",
    "    X_tover, y_tover = over_sample.fit_sample(X_train.values,y_train.values)\n",
    "    #print(X_test.isnull().values.any())\n",
    "    \n",
    "    model = RandomForestClassifier(n_estimators = 100, max_depth = 12, max_leaf_nodes = 10,  random_state = 1)\n",
    "    model.fit(X_tover, y_tover)\n",
    "\n",
    "    preds = model.predict(X_test)\n",
    "    acc_scores_f1.append(metrics.f1_score(y_test,preds, average = None))\n",
    "    acc_scores.append(metrics.accuracy_score(y_test,preds))\n",
    "    acc_scores_f1_train.append(metrics.f1_score(y_tover, model.predict(X_tover), average = None))\n",
    "    acc_scores_train.append(metrics.accuracy_score(y_tover, model.predict(X_tover)))\n",
    "    \n",
    "    print(\"Confusion matrix for kth fold :\", confusion_matrix(y_test, preds))\n",
    "\n",
    "\n",
    "print(\"F1_score: (test)\", np.mean(acc_scores_f1))\n",
    "\n",
    "print(\"F1_score: (train)\", np.mean(acc_scores_f1_train))\n",
    "\n",
    "\n",
    "print(\"Acc_score: (test)\", np.mean(acc_scores))\n",
    "\n",
    "print(\"Acc_score: (train)\", np.mean(acc_scores_train))\n",
    "    "
   ]
  },
  {
   "cell_type": "code",
   "execution_count": 8,
   "metadata": {},
   "outputs": [],
   "source": [
    "predictions = model.predict(test_features)\n"
   ]
  },
  {
   "cell_type": "code",
   "execution_count": 9,
   "metadata": {},
   "outputs": [
    {
     "name": "stdout",
     "output_type": "stream",
     "text": [
      "Your submission was successfully saved!\n"
     ]
    }
   ],
   "source": [
    "submit = pd.DataFrame({\"PassengerId\": df_test.PassengerId, \"Survived\" : predictions})\n",
    "submit.to_csv(\"kaggle_submission.csv\", index = False )\n",
    "print(\"Your submission was successfully saved!\")"
   ]
  },
  {
   "cell_type": "code",
   "execution_count": null,
   "metadata": {},
   "outputs": [],
   "source": []
  }
 ],
 "metadata": {
  "kernelspec": {
   "display_name": "Python 3",
   "language": "python",
   "name": "python3"
  },
  "language_info": {
   "codemirror_mode": {
    "name": "ipython",
    "version": 3
   },
   "file_extension": ".py",
   "mimetype": "text/x-python",
   "name": "python",
   "nbconvert_exporter": "python",
   "pygments_lexer": "ipython3",
   "version": "3.8.3"
  }
 },
 "nbformat": 4,
 "nbformat_minor": 4
}
